{
  "nbformat": 4,
  "nbformat_minor": 0,
  "metadata": {
    "colab": {
      "provenance": []
    },
    "kernelspec": {
      "name": "python3",
      "display_name": "Python 3"
    },
    "language_info": {
      "name": "python"
    }
  },
  "cells": [
    {
      "cell_type": "code",
      "execution_count": 3,
      "metadata": {
        "colab": {
          "base_uri": "https://localhost:8080/"
        },
        "id": "DEOjtY3iMJim",
        "outputId": "012db819-1139-4178-a001-8e9473b372dc"
      },
      "outputs": [
        {
          "output_type": "stream",
          "name": "stdout",
          "text": [
            "Data Mahasiswa:\n",
            "NIM: G.211.22.0100\n",
            "Nama: Nizar Hidayatul Ikhsan\n",
            "Usia: 19\n"
          ]
        }
      ],
      "source": [
        "# Tuple\n",
        "mahasiswa = (\"G.211.22.0100\", \"Nizar Hidayatul Ikhsan\", 19)\n",
        "\n",
        "# Mengakses elemen tuple\n",
        "nim, nama, usia = mahasiswa\n",
        "\n",
        "# Menampilkan data mahasiswa\n",
        "print(\"Data Mahasiswa:\")\n",
        "print(\"NIM:\", nim)   # Menampilkan NIM\n",
        "print(\"Nama:\", nama)  # Menampilkan Nama\n",
        "print(\"Usia:\", usia)  # Menampilkan Usia"
      ]
    },
    {
      "cell_type": "code",
      "source": [
        "# Dictionary\n",
        "mahasiswa = {\"NIM\": \"G.211.22.0100\", \"Nama\": \"Nizar Hidayatul Ikhsan\", \"Usia\": 19}\n",
        "\n",
        "# Mengakses nilai menggunakan kunci\n",
        "nim = mahasiswa[\"NIM\"]\n",
        "nama = mahasiswa[\"Nama\"]\n",
        "usia = mahasiswa[\"Usia\"]\n",
        "\n",
        "# Menampilkan data mahasiswa dari dictionary\n",
        "print(\"\\nData Mahasiswa (Dictionary):\")\n",
        "print(\"NIM:\", nim)\n",
        "print(\"Nama:\", nama)\n",
        "print(\"Usia:\", usia)"
      ],
      "metadata": {
        "colab": {
          "base_uri": "https://localhost:8080/"
        },
        "id": "YXqq7KlKMTuC",
        "outputId": "db5a57ce-1be4-436d-ed29-798079ca2b54"
      },
      "execution_count": 4,
      "outputs": [
        {
          "output_type": "stream",
          "name": "stdout",
          "text": [
            "\n",
            "Data Mahasiswa (Dictionary):\n",
            "NIM: G.211.22.0100\n",
            "Nama: Nizar Hidayatul Ikhsan\n",
            "Usia: 19\n"
          ]
        }
      ]
    }
  ]
}